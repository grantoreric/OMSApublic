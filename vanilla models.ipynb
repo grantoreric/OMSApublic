{
 "nbformat": 4,
 "nbformat_minor": 0,
 "metadata": {
  "colab": {
   "name": "vanilla models.ipynb",
   "provenance": [],
   "collapsed_sections": [],
   "authorship_tag": "ABX9TyOiy6uw3tw+02PhHTt/tYyK"
  },
  "kernelspec": {
   "name": "python3",
   "display_name": "Python 3"
  },
  "language_info": {
   "name": "python"
  }
 },
 "cells": [
  {
   "cell_type": "code",
   "execution_count": null,
   "outputs": [],
   "source": [
    "import os\n",
    "\n",
    "# remove local directory if it already exists\n",
    "if os.path.isdir(repo):\n",
    "    !rm -rf {repo}\n",
    "\n",
    "!git clone https://github.com/hakub/DMSL-Proj data"
   ],
   "metadata": {
    "collapsed": false,
    "pycharm": {
     "name": "#%%\n"
    }
   }
  },
  {
   "cell_type": "code",
   "execution_count": 2,
   "metadata": {
    "colab": {
     "base_uri": "https://localhost:8080/"
    },
    "id": "2ZCT_UCYsS7D",
    "executionInfo": {
     "status": "ok",
     "timestamp": 1649439154413,
     "user_tz": -540,
     "elapsed": 14736,
     "user": {
      "displayName": "Hak Kim",
      "userId": "13094903836302483324"
     }
    },
    "outputId": "2912e296-f727-4b61-f146-fb8b649126c2"
   },
   "outputs": [
    {
     "output_type": "stream",
     "name": "stderr",
     "text": [
      "/usr/local/lib/python3.7/dist-packages/statsmodels/tsa/tsatools.py:117: FutureWarning: In a future version of pandas all arguments of concat except for the argument 'objs' will be keyword-only\n",
      "  x = pd.concat(x[::order], 1)\n"
     ]
    },
    {
     "output_type": "stream",
     "name": "stdout",
     "text": [
      "Add  property_type_house            with p-value 2.32336e-05\n",
      "Add  restaurants_cnt_0.5            with p-value 0.000327012\n",
      "Add  host_is_superhost              with p-value 0.00463625\n",
      "resulting features: ['property_type_house', 'restaurants_cnt_0.5', 'host_is_superhost']\n"
     ]
    },
    {
     "output_type": "execute_result",
     "data": {
      "text/plain": [
       "{'knn': {'MAE': 0.45154815385315705,\n",
       "  'MSE': 4.2502059520536255,\n",
       "  'R^2': -0.10202179311957371},\n",
       " 'linear regression': {'MAE': 0.4546004812817495,\n",
       "  'MSE': 3.488198774845528,\n",
       "  'R^2': -0.004602706902885556},\n",
       " 'random forest': {'MAE': 0.45656054611763003,\n",
       "  'MSE': 3.3486089475997853,\n",
       "  'R^2': 0.26952987295539765},\n",
       " 'stepwise': {'MAE': 0.4314295084012089,\n",
       "  'MSE': 3.4601286156110582,\n",
       "  'R^2': 0.0034815107034898984}}"
      ]
     },
     "metadata": {},
     "execution_count": 2
    }
   ],
   "source": [
    "\n",
    "import pandas as pd\n",
    "import sys\n",
    "from sklearn.metrics import r2_score, mean_absolute_error, mean_squared_error\n",
    "from util import *\n",
    "\n",
    "\n",
    "#### Load data\n",
    "data = pd.read_csv('version2_data.csv')\n",
    "\n",
    "\n",
    "#### dataset\n",
    "# list of columns except from X when generating models (e.g. ['neighbourhood_cleansed'])\n",
    "not_features = ['neighbourhood_cleansed']\n",
    "# y column name\n",
    "y_column = 'reviews_availability_ratio'\n",
    "\n",
    "\n",
    "#### modeling\n",
    "results = {}\n",
    "\n",
    "## kNN  #py knn \\https://realpython.com/knn-python/\n",
    "data_temp = encode_categorical(data, 'property_type', drop_first=False)\n",
    "\n",
    "X_train, X_test, y_train, y_test = train_test_split_with_scale(data_temp, not_features, y_column, scale_=True)\n",
    "from sklearn.neighbors import KNeighborsRegressor\n",
    "model = KNeighborsRegressor(n_neighbors=3).fit(X_train, y_train)\n",
    "predictions = model.predict(X_test)\n",
    "\n",
    "mse = mean_squared_error(y_test, predictions)\n",
    "mae = mean_absolute_error(y_test, predictions)\n",
    "r2 = r2_score(y_test, predictions)\n",
    "\n",
    "results['knn'] = {'MSE': mse, 'MAE': mae, 'R^2': r2}\n",
    "\n",
    "# ## PCR (NOT A VALIDATED IMPLEMENTATION)\n",
    "# # to be implemented\n",
    "\n",
    "## Linear Regression\n",
    "data_temp = encode_categorical(data, 'property_type', drop_first=True)\n",
    "\n",
    "X_train, X_test, y_train, y_test = train_test_split_with_scale(data_temp, not_features, y_column)\n",
    "\n",
    "from sklearn.linear_model import LinearRegression\n",
    "model = LinearRegression().fit(X_train, y_train)\n",
    "predictions = model.predict(X_test)\n",
    "\n",
    "mse = mean_squared_error(y_test, predictions)\n",
    "mae = mean_absolute_error(y_test, predictions)\n",
    "r2 = r2_score(y_test, predictions)\n",
    "\n",
    "results['linear regression'] = {'MSE': mse, 'MAE': mae, 'R^2': r2}\n",
    "\n",
    "## Stepwise Linear Regression (NOT A VALIDATED IMPLEMENTATION)\n",
    "features = stepwise_selection(X_train, y_train)\n",
    "print(f'resulting features: {features}')\n",
    "model = LinearRegression().fit(X_train[features], y_train)\n",
    "predictions = model.predict(X_test[features])\n",
    "\n",
    "mse = mean_squared_error(y_test, predictions)\n",
    "mae = mean_absolute_error(y_test, predictions)\n",
    "r2 = r2_score(y_test, predictions)\n",
    "\n",
    "results['stepwise'] = {'MSE': mse, 'MAE': mae, 'R^2': r2}\n",
    "\n",
    "## Random forest\n",
    "data_temp = encode_categorical(data, 'property_type', drop_first=False)\n",
    "\n",
    "X_train, X_test, y_train, y_test = train_test_split_with_scale(data_temp, not_features, y_column)\n",
    "\n",
    "from sklearn.ensemble import RandomForestRegressor\n",
    "model = RandomForestRegressor().fit(X_train, y_train)\n",
    "predictions = model.predict(X_test)\n",
    "\n",
    "mse = mean_squared_error(y_test, predictions)\n",
    "mae = mean_absolute_error(y_test, predictions)\n",
    "r2 = r2_score(y_test, predictions)\n",
    "\n",
    "results['random forest'] = {'MSE': mse, 'MAE': mae, 'R^2': r2}\n",
    "\n",
    "\n",
    "#### Result\n",
    "results\n",
    "\n"
   ]
  },
  {
   "cell_type": "code",
   "source": [
    "#### Result\n",
    "results"
   ],
   "metadata": {
    "id": "oZJ5n5AAtSjA",
    "colab": {
     "base_uri": "https://localhost:8080/"
    },
    "executionInfo": {
     "status": "ok",
     "timestamp": 1649439334565,
     "user_tz": -540,
     "elapsed": 478,
     "user": {
      "displayName": "Hak Kim",
      "userId": "13094903836302483324"
     }
    },
    "outputId": "a46d4e48-04a0-42db-c805-e22d1b0bfbb7"
   },
   "execution_count": 3,
   "outputs": [
    {
     "output_type": "execute_result",
     "data": {
      "text/plain": [
       "{'knn': {'MAE': 0.45154815385315705,\n",
       "  'MSE': 4.2502059520536255,\n",
       "  'R^2': -0.10202179311957371},\n",
       " 'linear regression': {'MAE': 0.4546004812817495,\n",
       "  'MSE': 3.488198774845528,\n",
       "  'R^2': -0.004602706902885556},\n",
       " 'random forest': {'MAE': 0.45656054611763003,\n",
       "  'MSE': 3.3486089475997853,\n",
       "  'R^2': 0.26952987295539765},\n",
       " 'stepwise': {'MAE': 0.4314295084012089,\n",
       "  'MSE': 3.4601286156110582,\n",
       "  'R^2': 0.0034815107034898984}}"
      ]
     },
     "metadata": {},
     "execution_count": 3
    }
   ]
  }
 ]
}